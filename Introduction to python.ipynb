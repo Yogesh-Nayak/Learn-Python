{
 "cells": [
  {
   "cell_type": "markdown",
   "id": "b4955273",
   "metadata": {},
   "source": [
    "# What is python?"
   ]
  },
  {
   "cell_type": "markdown",
   "id": "51d410bf",
   "metadata": {},
   "source": [
    "- Python is a high-level, interpreted, interactive and   object-oriented scripting language.\n",
    "-  it’s designed to be used in a range of applications, including data science, software and web development, automation, and generally getting stuff done.\n",
    "- Python is derived from many other languages, including ABC, Modula-3, C, C++, Algol-68, SmallTalk, and Unix shell and other scripting languages.\n"
   ]
  },
  {
   "cell_type": "markdown",
   "id": "5fdfde2d",
   "metadata": {},
   "source": [
    "## When, where, and who created python?"
   ]
  },
  {
   "cell_type": "markdown",
   "id": "44f4b6c9",
   "metadata": {},
   "source": [
    "- Python was created by **Guido van rossum**  in the year 1991 at the National Research Institute for Mathematics and Computer Science in the Netherlands."
   ]
  },
  {
   "cell_type": "markdown",
   "id": "17352468",
   "metadata": {},
   "source": [
    "## Why is it Object oriented,Interpreted and scripting ?"
   ]
  },
  {
   "cell_type": "markdown",
   "id": "28140981",
   "metadata": {},
   "source": [
    "- It is scripting because it is not necessary for one to create a class or function to run a code, we can even run a single line of code\n",
    "- Object oriented because we can create classes and objects in python\n",
    "- Interpreted because, unlike other programming languages python dont use a compiler but is processed at runtime."
   ]
  },
  {
   "cell_type": "markdown",
   "id": "cc216b19",
   "metadata": {},
   "source": [
    "# Features of Python"
   ]
  },
  {
   "cell_type": "markdown",
   "id": "911cdc77",
   "metadata": {},
   "source": [
    "- **Easy-to-learn** − Python has few keywords, similarities to the english language, simple structure, and a clearly defined syntax .\n",
    "\n",
    "- **Easy-to-read** − Python code is more clearly defined and visible to the eyes.\n",
    "\n",
    "- **Easy-to-maintain** − Python's source code is fairly easy-to-maintain.\n",
    "\n",
    "- **Free and Open-Source** - Anyone can download it for free and use it for any purpose.\n",
    "\n",
    "- **Robust Standard Library** − Python's bulk of the library is very portable and cross-platform compatible on UNIX, Windows, and Macintosh. So for few things no need to create our own code rather we can use the libraries\n",
    "\n",
    "- **Interpreted** − When a programming language is interpreted, it means that the source code is executed line by line, and not all at once. Also no need of compilers, code gets processed at runtime.\n",
    "\n",
    "- **Dynamically Typed** − No need to declare the type of variable, the type is interpreted at runtime.\n",
    "\n",
    "- **Portable** − Python can run on a wide variety of hardware platforms and has the same interface on all platforms.\n",
    "\n",
    "- **Extendable** − You can add low-level modules to the Python interpreter. These modules enable programmers to add to or customize their tools to be more efficient.\n",
    "\n",
    "- **Databases** − Python provides interfaces to all major commercial databases.\n",
    "\n",
    "- **GUI Programming** − Python supports GUI applications that can be created and ported to many system calls, libraries and windows systems, such as Windows MFC, Macintosh, and the X Window system of Unix.\n",
    "\n",
    "- **Scalable** − Python provides a better structure and support for large programs than shell scripting.\n",
    "\n",
    "- **Garbage Collection** − It supports automatic garbage collection.\n",
    "\n",
    "- **High-level Language** − Python is a high-level programming language because we don’t need to remember the system architecture, nor we have to manage the memory.\n",
    "\n",
    "- **Easy Integration** − It can be easily integrated with C, C++, COM, ActiveX, CORBA, and Java."
   ]
  },
  {
   "cell_type": "markdown",
   "id": "d631b97e",
   "metadata": {},
   "source": [
    "### Good to know thing about Python"
   ]
  },
  {
   "cell_type": "markdown",
   "id": "2f91cd4e",
   "metadata": {},
   "source": [
    "- Indentation is necessary to follow in python else it will throw error and this helps us to read code easily to understand what the flow is.\n",
    "- unlike other languages it is not necessary for us to put semicolon to end the statement."
   ]
  },
  {
   "cell_type": "markdown",
   "id": "13666741",
   "metadata": {},
   "source": [
    "# Where to write python Programs?\n",
    "\n",
    "***Note* :- prefer the once you find easy to use.**"
   ]
  },
  {
   "cell_type": "markdown",
   "id": "65f12d4f",
   "metadata": {},
   "source": [
    "#### Offline code editors where we can write python code:\n",
    "\n",
    "- **Notepad** (to write code) and **Command prompt** (to run code).\n",
    "- **Pycharm**\n",
    "- **Jupyter Notebook** (mostly used for Machine Learning)\n",
    "- **Sublime**\n",
    "- **Atom**\n",
    "- **Visual Studio Code**\n"
   ]
  },
  {
   "cell_type": "markdown",
   "id": "24b4234d",
   "metadata": {},
   "source": [
    "#### Online code editors where we can write python code:\n",
    "\n",
    "- [**Google Colab**](https://colab.research.google.com/)\n",
    "- [**Replit.com**](https://replit.com/languages/python3)"
   ]
  },
  {
   "cell_type": "markdown",
   "id": "a71f416c",
   "metadata": {},
   "source": [
    "#### Online code editor to understand the steps of execution:\n",
    "\n",
    "- [**pythontutor.com**](https://pythontutor.com/visualize.html#mode=edit)\n"
   ]
  },
  {
   "cell_type": "markdown",
   "id": "20403030",
   "metadata": {},
   "source": [
    "# Installing Python"
   ]
  },
  {
   "cell_type": "markdown",
   "id": "9f720b38",
   "metadata": {},
   "source": [
    "### Installation on Windows\n",
    "\n",
    "- [Windows](https://www.freecodecamp.org/news/how-to-install-python-in-windows-operating-system/)\n",
    "  \n",
    "### Installation on Linux\n",
    "\n",
    "- [Linux](https://www.scaler.com/topics/python/install-python-on-linux/)\n",
    "\n",
    "### Installation on Mac\n",
    " \n",
    "- [Mac](https://www.scaler.com/topics/python/how-to-install-python-on-macos/)"
   ]
  },
  {
   "cell_type": "markdown",
   "id": "79b06b74",
   "metadata": {},
   "source": [
    "***Note : Everything executed in this file and other files is in Jupyter Notebook.***"
   ]
  }
 ],
 "metadata": {
  "kernelspec": {
   "display_name": "Python 3 (ipykernel)",
   "language": "python",
   "name": "python3"
  },
  "language_info": {
   "codemirror_mode": {
    "name": "ipython",
    "version": 3
   },
   "file_extension": ".py",
   "mimetype": "text/x-python",
   "name": "python",
   "nbconvert_exporter": "python",
   "pygments_lexer": "ipython3",
   "version": "3.9.7"
  }
 },
 "nbformat": 4,
 "nbformat_minor": 5
}
